{
 "cells": [
  {
   "cell_type": "code",
   "execution_count": 2,
   "metadata": {},
   "outputs": [],
   "source": [
    "### ATTENTION: ALL ASSIGNMENTS SHOULD BE DONE INDIVIDUALLY ###"
   ]
  },
  {
   "cell_type": "code",
   "execution_count": null,
   "metadata": {},
   "outputs": [],
   "source": [
    "#Programming Homework: AES Symmetric Encryption\n",
    "\n",
    "#Background:\n",
    "#AES (Advanced Encryption Standard) is a widely-used symmetric encryption algorithm. Symmetric \n",
    "#encryption means the same key is used for both encryption and decryption. Python has libraries that \n",
    "#provide AES functionalities out of the box, making it simpler to use.\n",
    "\n",
    "#Objective:\n",
    "# AES encryption and decryption using the pycryptodome library in Python.\n",
    "\n",
    "#Tasks:"
   ]
  },
  {
   "cell_type": "code",
   "execution_count": 20,
   "metadata": {},
   "outputs": [
    {
     "name": "stdout",
     "output_type": "stream",
     "text": [
      "hello world\n"
     ]
    }
   ],
   "source": [
    "#Install the necessary library:\n",
    "# TODO: Install the pycryptodome library. You can use pip for this.\n"
   ]
  },
  {
   "cell_type": "code",
   "execution_count": 64,
   "metadata": {},
   "outputs": [],
   "source": [
    "#Set up AES encryption:\n",
    "\n",
    "from Crypto.Cipher import AES\n",
    "from Crypto.Random import get_random_bytes\n",
    "from base64 import b64encode, b64decode\n",
    "\n",
    "def aes_encrypt(plaintext: str, key: bytes, nonce: bytes) -> str:\n",
    "     # TODO: Encrypt the plaintext using the cipher and return the base64 encoded ciphertext\n",
    "    cipher = AES.new(key, AES.MODE_EAX,nonce=nonce)\n",
    "    plaintext_bytes = plaintext.encode('utf-8')\n",
    "    cipher_text_encrypted= cipher.encrypt(plaintext_bytes)\n",
    "    cipher_text_encoded = b64encode(cipher_text_encrypted)\n",
    "    cipher_text = cipher_text_encoded.decode('utf-8')\n",
    "    return cipher_text\n",
    "    \n",
    "    \n",
    "   \n"
   ]
  },
  {
   "cell_type": "markdown",
   "metadata": {},
   "source": []
  },
  {
   "cell_type": "code",
   "execution_count": 65,
   "metadata": {},
   "outputs": [],
   "source": [
    "#Set up AES decryption:\n",
    "def aes_decrypt(ciphertext: str, key: bytes, nonce: bytes) -> str:\n",
    "    # TODO: Decrypt the base64 encoded ciphertext using the cipher and return the plaintext\n",
    "    cipher = AES.new(key, AES.MODE_EAX, nonce=nonce)\n",
    "    ciphertext_bytes = b64decode(ciphertext)\n",
    "    plaintext_bytes = cipher.decrypt(ciphertext_bytes)\n",
    "    plaintext = plaintext_bytes.decode('utf-8')\n",
    "    return plaintext\n",
    "    \n"
   ]
  },
  {
   "cell_type": "code",
   "execution_count": 66,
   "metadata": {},
   "outputs": [
    {
     "name": "stdout",
     "output_type": "stream",
     "text": [
      "Original Text:  Hello, AES Encryption!\n",
      "Cipher Text:  uljRZyfObuW3f5YGPORE/CMY2JcaMg==\n",
      "Decrypted Text:  Hello, AES Encryption!\n"
     ]
    }
   ],
   "source": [
    "#Main functionality:\n",
    "if __name__ == \"__main__\":\n",
    "    key = get_random_bytes(16)\n",
    "    original_text = \"Hello, AES Encryption!\"\n",
    "    nonce = get_random_bytes(16)\n",
    "\n",
    "\n",
    "    # TODO: Encrypt the original_text using aes_encrypt\n",
    "    # TODO: Decrypt the obtained ciphertext using aes_decrypt\n",
    "    # TODO: Print original_text, the ciphertext, and the decrypted text to see the results.\n",
    "    cipher_text= aes_encrypt(original_text,key, nonce)\n",
    "    decrypted_text = aes_decrypt(cipher_text, key,nonce)\n",
    "\n",
    "    print(\"Original Text: \",original_text)\n",
    "    print(\"Cipher Text: \", cipher_text)\n",
    "    print(\"Decrypted Text: \",decrypted_text)\n",
    "    "
   ]
  }
 ],
 "metadata": {
  "kernelspec": {
   "display_name": "Python 3.9.6 64-bit",
   "language": "python",
   "name": "python3"
  },
  "language_info": {
   "codemirror_mode": {
    "name": "ipython",
    "version": 3
   },
   "file_extension": ".py",
   "mimetype": "text/x-python",
   "name": "python",
   "nbconvert_exporter": "python",
   "pygments_lexer": "ipython3",
   "version": "3.9.6"
  },
  "vscode": {
   "interpreter": {
    "hash": "31f2aee4e71d21fbe5cf8b01ff0e069b9275f58929596ceb00d14d90e3e16cd6"
   }
  }
 },
 "nbformat": 4,
 "nbformat_minor": 2
}
